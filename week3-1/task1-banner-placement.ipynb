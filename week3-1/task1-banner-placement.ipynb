{
 "cells": [
  {
   "cell_type": "markdown",
   "metadata": {},
   "source": [
    "# Задание по программированию: Размещение баннеров"
   ]
  },
  {
   "cell_type": "markdown",
   "metadata": {},
   "source": [
    "Представим, что международное круизное агентство Carnival Cruise Line решило себя разрекламировать с помощью баннеров и обратилось для этого к вам. Чтобы протестировать, велика ли от таких баннеров польза, их будет размещено всего 20 штук по всему миру. Вам надо выбрать 20 таких локаций для размещения, чтобы польза была большой и агентство продолжило с вами сотрудничать.\n",
    "\n",
    "Агентство крупное, и у него есть несколько офисов по всему миру. Вблизи этих офисов оно и хочет разместить баннеры — легче договариваться и проверять результат. Также эти места должны быть популярны среди туристов."
   ]
  },
  {
   "cell_type": "markdown",
   "metadata": {},
   "source": [
    "Для поиска оптимальных мест воспользуемся базой данных крупнейшей социальной сети, основанной на локациях — Foursquare.\n",
    "\n",
    "Часть открытых данных есть, например, на сайте archive.org:\n",
    "\n",
    "https://archive.org/details/201309_foursquare_dataset_umn\n",
    "\n",
    "Скачаем любым удобным образом архив fsq.zip с этой страницы.\n",
    "\n"
   ]
  },
  {
   "cell_type": "code",
   "execution_count": 1,
   "metadata": {},
   "outputs": [],
   "source": [
    "import os, urllib\n",
    "from io import BytesIO\n",
    "from zipfile import ZipFile\n",
    "from pathlib import Path\n",
    "\n",
    "path_to_zip = '../datafiles/fsq.zip'\n",
    "\n",
    "if not (Path(path_to_zip)).exists():\n",
    "    urllib.request.urlretrieve(\"https://archive.org/download/201309_foursquare_dataset_umn/fsq.zip\", path_to_zip)\n",
    "\n",
    "if not (Path('../datafiles/fsq/')).exists():\n",
    "    with ZipFile(path_to_zip, \"r\") as zip_ref:\n",
    "        zip_ref.extractall(\"../datafiles/fsq/\")\n",
    "    \n",
    "path_to_checkins = '../datafiles/fsq/umn_foursquare_datasets/checkins.dat'"
   ]
  },
  {
   "cell_type": "markdown",
   "metadata": {},
   "source": [
    "Нас будет интересовать файл checkins.dat. Открыв его, увидим следующую структуру:"
   ]
  },
  {
   "cell_type": "code",
   "execution_count": 2,
   "metadata": {},
   "outputs": [
    {
     "name": "stdout",
     "output_type": "stream",
     "text": [
      "   id    | user_id | venue_id |     latitude      |     longitude     |     created_at      \n",
      "\n",
      "---------+---------+----------+-------------------+-------------------+---------------------\n",
      "\n",
      "  984301 | 2041916 |     5222 |                   |                   | 2012-04-21 17:39:01\n",
      "\n",
      "  984222 |   15824 |     5222 |        38.8951118 |       -77.0363658 | 2012-04-21 17:43:47\n",
      "\n",
      "  984315 | 1764391 |     5222 |                   |                   | 2012-04-21 17:37:18\n",
      "\n"
     ]
    }
   ],
   "source": [
    "dat_file = open(path_to_checkins, 'r')\n",
    "for i in range(5):\n",
    "    print(dat_file.readline())\n",
    "dat_file.close()"
   ]
  },
  {
   "cell_type": "markdown",
   "metadata": {},
   "source": [
    "Для удобной работы с этим документом преобразуем его к формату csv, удалив строки, не содержащие координат — они неинформативны для нас:\n",
    "\n"
   ]
  },
  {
   "cell_type": "code",
   "execution_count": 3,
   "metadata": {},
   "outputs": [],
   "source": [
    "path_to_csv = '../datafiles/checkins.csv'\n",
    "\n",
    "if not (Path(path_to_csv)).exists():\n",
    "    csv_file = open(path_to_csv, \"w\")\n",
    "    \n",
    "    dat_file = open(path_to_checkins, 'r')\n",
    "    dat_file.readline() # пропускаем шапку\n",
    "    dat_file.readline()\n",
    "    for line in dat_file:\n",
    "        line = line.split(\"|\")\n",
    "        line = [w.strip() for w in line]\n",
    "        if (len(line) > 4 and line[3] != '' and line[4] != ''):        \n",
    "            csv_file.write(line[3]+ \"|\" + line[4] + \"\\n\")\n",
    "\n",
    "    csv_file.close()"
   ]
  },
  {
   "cell_type": "markdown",
   "metadata": {},
   "source": [
    "С помощью pandas построим DataFrame и убедимся, что все 396634 строки с координатами считаны успешно.\n",
    "\n"
   ]
  },
  {
   "cell_type": "code",
   "execution_count": 62,
   "metadata": {},
   "outputs": [
    {
     "name": "stdout",
     "output_type": "stream",
     "text": [
      "Index(['latitude', 'longitude'], dtype='object')\n",
      "latitude     float32\n",
      "longitude    float32\n",
      "dtype: object\n"
     ]
    }
   ],
   "source": [
    "import pandas as pd\n",
    "import numpy as np\n",
    "\n",
    "'''df = pd.read_csv(path_to_csv, \n",
    "                 sep='|',\n",
    "                 names=['id','user_id','venue_id','latitude','longitude','created_at'],\n",
    "                 dtype={'id': np.int32, 'user_id': np.int32, 'venue_id': np.int32,\n",
    "                       'latitude': np.float32,'longitude' : np.float32}\n",
    "                )\n",
    "df.created_at = df.created_at.apply(pd.to_datetime)'''\n",
    "\n",
    "df = pd.read_csv(path_to_csv, sep='|', names=['latitude','longitude'], dtype={'latitude': np.float32,'longitude' : np.float32})\n",
    "print(df.columns)\n",
    "print(df.dtypes)"
   ]
  },
  {
   "cell_type": "code",
   "execution_count": 63,
   "metadata": {},
   "outputs": [
    {
     "name": "stdout",
     "output_type": "stream",
     "text": [
      "    latitude   longitude\n",
      "0  38.895111  -77.036369\n",
      "1  33.800743  -84.410522\n",
      "2  45.523453 -122.676208\n",
      "3  40.764462 -111.904564\n",
      "4  33.448376 -112.074036\n"
     ]
    }
   ],
   "source": [
    "print(df.head())"
   ]
  },
  {
   "cell_type": "markdown",
   "metadata": {},
   "source": [
    "_________________________________"
   ]
  },
  {
   "cell_type": "markdown",
   "metadata": {},
   "source": [
    "Теперь необходимо **кластеризовать данные координаты, чтобы выявить центры скоплений туристов**. Поскольку баннеры имеют сравнительно небольшую площадь действия, нам нужен алгоритм, позволяющий ограничить размер кластера и не зависящий от количества кластеров."
   ]
  },
  {
   "cell_type": "markdown",
   "metadata": {},
   "source": [
    "Эта задача — хороший повод познакомиться с алгоритмом MeanShift, который мы обошли стороной в основной части лекций. Его описание при желании можно посмотреть в sklearn user guide, а чуть позже появится дополнительное видео с обзором этого и некоторых других алгоритмов кластеризации. Используйте MeanShift, указав bandwidth=0.1, что в переводе из градусов в метры колеблется примерно от 5 до 10 км в средних широтах.\n",
    "\n"
   ]
  },
  {
   "cell_type": "markdown",
   "metadata": {},
   "source": [
    "**Примечание**:на 396634 строках кластеризация будет работать долго. Быть очень терпеливым не возбраняется — результат от этого только улучшится. Но для того, чтобы сдать задание, понадобится сабсет из первых 100 тысяч строк. Это компромисс между качеством и затраченным временем. Обучение алгоритма на всём датасете занимает около часа, а на 100 тыс. строк — примерно 2 минуты, однако этого достаточно для получения корректных результатов."
   ]
  },
  {
   "cell_type": "markdown",
   "metadata": {},
   "source": [
    "Некоторые из получившихся кластеров содержат слишком мало точек — такие кластеры не интересны рекламодателям. Поэтому надо определить, какие из кластеров содержат, скажем, больше 15 элементов. Центры этих кластеров и являются оптимальными для размещения.\n",
    "\n"
   ]
  },
  {
   "cell_type": "code",
   "execution_count": 64,
   "metadata": {},
   "outputs": [
    {
     "name": "stdout",
     "output_type": "stream",
     "text": [
      "CPU times: user 1.91 ms, sys: 179 µs, total: 2.09 ms\n",
      "Wall time: 1.14 ms\n"
     ]
    }
   ],
   "source": [
    "%%time\n",
    "from sklearn.cluster import MeanShift, estimate_bandwidth\n",
    "from sklearn.datasets import make_blobs\n",
    "import pickle\n",
    "\n",
    "model_name = '1_cluster'\n",
    "\n",
    "if os.path.exists('model/'+model_name+'.pickle'):\n",
    "    with open('model/'+model_name+'.pickle', 'rb') as f:\n",
    "        clustering = pickle.load(f)\n",
    "else:\n",
    "    clustering = MeanShift(bandwidth=0.1).fit(df.head(100000))\n",
    "    with open('model/'+model_name+'.pickle', 'wb') as f:\n",
    "        pickle.dump(clustering, f)\n"
   ]
  },
  {
   "cell_type": "code",
   "execution_count": 65,
   "metadata": {},
   "outputs": [],
   "source": [
    "labels = clustering.labels_\n",
    "cluster_centers = clustering.cluster_centers_\n",
    "\n",
    "labels_unique = np.unique(labels)\n",
    "n_clusters_ = len(labels_unique)\n",
    "X = np.array(df.head(100000))\n",
    "\n",
    "clusters_of_points = clustering.predict(X)"
   ]
  },
  {
   "cell_type": "code",
   "execution_count": 66,
   "metadata": {
    "scrolled": true
   },
   "outputs": [
    {
     "name": "stdout",
     "output_type": "stream",
     "text": [
      "591\n"
     ]
    }
   ],
   "source": [
    "cluster_size = {}\n",
    "for cl_num in clusters_of_points:\n",
    "    if cl_num in cluster_size:\n",
    "        cluster_size[cl_num] += 1\n",
    "    else:\n",
    "        cluster_size[cl_num] = 1\n",
    "        \n",
    "big_clusters = dict(filter(lambda elem: elem[1]  > 15, cluster_size.items()))\n",
    "print(len(big_clusters))"
   ]
  },
  {
   "cell_type": "code",
   "execution_count": 67,
   "metadata": {},
   "outputs": [
    {
     "data": {
      "text/plain": [
       "Text(0.5, 1.0, 'Estimated number of clusters: 591')"
      ]
     },
     "execution_count": 67,
     "metadata": {},
     "output_type": "execute_result"
    },
    {
     "data": {
      "image/png": "[encoded data removed]",
      "text/plain": [
       "<Figure size 1080x1080 with 1 Axes>"
      ]
     },
     "metadata": {
      "needs_background": "light"
     },
     "output_type": "display_data"
    }
   ],
   "source": [
    "# #############################################################################\n",
    "# Plot result\n",
    "import matplotlib.pyplot as plt\n",
    "from matplotlib.pyplot import figure\n",
    "from itertools import cycle\n",
    "import random\n",
    "import colorsys\n",
    "\n",
    "\n",
    "def rgb2hex(rgb_arr):\n",
    "    r,g,b = rgb_arr\n",
    "    return \"#{:02x}{:02x}{:02x}\".format(r,g,b)\n",
    "\n",
    "def randcolor():\n",
    "    h,s,l = random.random(), 0.5 + random.random()/2.0, 0.4 + random.random()/5.0\n",
    "    r,g,b = [int(256*i) for i in colorsys.hls_to_rgb(h,l,s)]# r,g,b\n",
    "    return (r,g,b,0.5)\n",
    "\n",
    "colors = []\n",
    "for i in range(n_clusters_):\n",
    "    colors.append(randcolor())\n",
    "\n",
    "\n",
    "plt.figure(figsize=(15,15))\n",
    "plt.clf()\n",
    "colors = cycle('bgrcmykbgrcmykbgrcmykbgrcmyk')\n",
    "    \n",
    "for k, col in zip(range(n_clusters_), colors):\n",
    "    if not k in big_clusters:\n",
    "        continue\n",
    "    my_members = labels == k\n",
    "    cluster_center = cluster_centers[k]\n",
    "    plt.plot(X[my_members, 0], X[my_members, 1], col)\n",
    "    plt.plot(cluster_center[0], cluster_center[1], 'o', markerfacecolor=col,\n",
    "            markeredgecolor='k', markersize=14)\n",
    "\n",
    "    \n",
    "plt.xlabel('latitude')\n",
    "plt.ylabel('longitude')\n",
    "plt.title('Estimated number of clusters: %d' % len(big_clusters) )\n"
   ]
  },
  {
   "cell_type": "code",
   "execution_count": 68,
   "metadata": {},
   "outputs": [],
   "source": [
    "big_cluster_centers = []\n",
    "for k in big_clusters.keys():\n",
    "    big_cluster_centers.append(cluster_centers[k])\n",
    "    "
   ]
  },
  {
   "cell_type": "markdown",
   "metadata": {},
   "source": [
    "При желании увидеть получившиеся результаты на карте можно передать центры получившихся кластеров в один из инструментов визуализации. Например, сайт mapcustomizer.com имеет функцию Bulk Entry, куда можно вставить центры полученных кластеров в формате:\n",
    "<pre>\n",
    "38.8951118,-77.0363658\n",
    "\n",
    "33.800745,-84.41052\n",
    "\n",
    "45.5234515,-122.6762071\n",
    "</pre>\n"
   ]
  },
  {
   "cell_type": "markdown",
   "metadata": {},
   "source": [
    "**Ответ:** Карта с центрами кластеров  \n",
    "https://www.mapcustomizer.com/map/clusterize%20foursquare%20data"
   ]
  },
  {
   "cell_type": "markdown",
   "metadata": {},
   "source": [
    "__________"
   ]
  },
  {
   "cell_type": "markdown",
   "metadata": {},
   "source": [
    "Как мы помним, 20 баннеров надо разместить близ офисов компании. Найдем на Google Maps по запросу Carnival Cruise Line адреса всех офисов:\n",
    "\n",
    "<pre>\n",
    "33.751277, -118.188740 (Los Angeles)\n",
    "\n",
    "25.867736, -80.324116 (Miami)\n",
    "\n",
    "51.503016, -0.075479 (London)\n",
    "\n",
    "52.378894, 4.885084 (Amsterdam)\n",
    "\n",
    "39.366487, 117.036146 (Beijing)\n",
    "\n",
    "-33.868457, 151.205134 (Sydney)\n",
    "</pre>"
   ]
  },
  {
   "cell_type": "code",
   "execution_count": 69,
   "metadata": {},
   "outputs": [],
   "source": [
    "offices_coords = [[33.751277, -118.188740],\n",
    "                 [25.867736, -80.324116],\n",
    "                 [51.503016, -0.075479],\n",
    "                 [52.378894, 4.885084],\n",
    "                 [39.366487, 117.036146],\n",
    "                 [-33.868457, 151.205134]]"
   ]
  },
  {
   "cell_type": "code",
   "execution_count": 70,
   "metadata": {},
   "outputs": [
    {
     "name": "stdout",
     "output_type": "stream",
     "text": [
      "[[0.007830129410992547, 5, 138], [0.009356450016086563, 3, 269], [0.02267112557001763, 1, 354], [0.05005823818936693, 2, 117], [0.07071099439245516, 0, 18], [0.13409449749343014, 1, 164], [0.16742068363604146, 1, 139], [0.18887421167135915, 1, 111], [0.19571716048723214, 0, 183], [0.21152163380810302, 0, 92], [0.2222229854324734, 0, 123], [0.2712959761581327, 1, 247], [0.29498029120723007, 0, 277], [0.302202595855432, 1, 134], [0.30541040629862787, 0, 105], [0.31455330052350644, 0, 11], [0.33973666448517237, 0, 15], [0.3408471794788464, 1, 133], [0.3783992466010198, 0, 51], [0.3866679063696121, 0, 16]]\n",
      "138 [-33.860634 151.2048  ]\n",
      "269 [52.37296    4.8923173]\n",
      "354 [ 25.845676 -80.318886]\n",
      "117 [51.50291    -0.12553713]\n",
      "18 [  33.809864 -118.14915 ]\n",
      "164 [ 25.785921 -80.21787 ]\n",
      "139 [ 25.70532  -80.283485]\n",
      "111 [ 26.010141 -80.20004 ]\n",
      "183 [  33.888313 -118.049   ]\n",
      "92 [  33.87307 -118.36168]\n",
      "123 [  33.972565 -118.16837 ]\n",
      "247 [ 26.13884 -80.33433]\n",
      "277 [  33.98394 -118.00741]\n",
      "134 [ 26.12078  -80.158905]\n",
      "105 [  33.81715 -117.89052]\n",
      "11 [  34.060234 -118.24781 ]\n",
      "15 [  33.67419  -117.857864]\n",
      "133 [ 26.200573 -80.250656]\n",
      "51 [  34.035595 -118.43844 ]\n",
      "16 [  34.131424 -118.11803 ]\n"
     ]
    }
   ],
   "source": [
    "from scipy.spatial import distance\n",
    "\n",
    "dist = []\n",
    "for o in range(len(offices_coords)):\n",
    "    for c in range(len(big_cluster_centers)):\n",
    "        dist.append([distance.euclidean(offices_coords[o], big_cluster_centers[c]),  o, c])\n",
    "        \n",
    "sorted_dist = sorted(dist, key=lambda d: d[0])\n",
    "result = sorted_dist[:20]\n",
    "\n",
    "print(result)\n",
    "for _, _, cluster_num in result:\n",
    "    print(cluster_num, big_cluster_centers[cluster_num])"
   ]
  },
  {
   "cell_type": "markdown",
   "metadata": {},
   "source": [
    "_______________________"
   ]
  },
  {
   "cell_type": "markdown",
   "metadata": {},
   "source": [
    "Осталось определить 20 ближайших к ним центров кластеров. Т.е. посчитать дистанцию до ближайшего офиса для каждой точки и выбрать 20 с наименьшим значением."
   ]
  },
  {
   "cell_type": "markdown",
   "metadata": {},
   "source": [
    "**Примечание**: при подсчете расстояний и в кластеризации можно пренебречь тем, что Земля круглая, так как в точках, расположенных близко друг к другу погрешность мала, а в остальных точках значение достаточно велико.\n",
    "\n",
    "Для сдачи задания выберите из получившихся 20 центров тот, который наименее удален от ближайшего к нему офиса. Ответ в этом задании — широта и долгота этого центра, записанные через пробел."
   ]
  },
  {
   "cell_type": "markdown",
   "metadata": {},
   "source": [
    "**Ответ: [-33.860634 151.2048] (возле офиса в Сиднее)**"
   ]
  }
 ],
 "metadata": {
  "kernelspec": {
   "display_name": "Python 3",
   "language": "python",
   "name": "python3"
  },
  "language_info": {
   "codemirror_mode": {
    "name": "ipython",
    "version": 3
   },
   "file_extension": ".py",
   "mimetype": "text/x-python",
   "name": "python",
   "nbconvert_exporter": "python",
   "pygments_lexer": "ipython3",
   "version": "3.8.3"
  }
 },
 "nbformat": 4,
 "nbformat_minor": 4
}
