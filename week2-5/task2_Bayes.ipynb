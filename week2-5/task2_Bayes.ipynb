{
 "cells": [
  {
   "cell_type": "markdown",
   "metadata": {},
   "source": [
    "# Задание по программированию: Выбор семейства распределений в наивном байесе"
   ]
  },
  {
   "cell_type": "markdown",
   "metadata": {},
   "source": [
    "В этом задании вы сможете немного расслабиться после реализации случайного леса и градиентного бустинга по мотивам материалов прошлой недели. Все, что нужно будет делать — запускать методы из sklearn. Вам предлагается выяснить, какое распределение лучше использовать в наивном байесовском классификаторе в зависимости от вида признаков.\n",
    "\n",
    "Загрузите датасеты **digits** и **breast_cancer** из sklearn.datasets. Выведите несколько строчек из обучающих выборок и посмотрите на признаки. С помощью **sklearn.cross_validation.cross_val_score** c настройками по умолчанию и вызова метода **mean()** у возвращаемого этой функцией numpy.ndarray, сравните качество работы наивных байесовских классификаторов на этих двух датасетах. Для сравнения предлагается использовать **BernoulliNB, MultinomialNB и GaussianNB**. Насколько полученные результаты согласуются с рекомендациями из лекций?\n",
    "\n",
    "Два датасета, конечно, еще не повод делать далеко идущие выводы, но при желании вы можете продолжить исследование на других выборках (например, из UCI репозитория)."
   ]
  },
  {
   "cell_type": "code",
   "execution_count": 9,
   "metadata": {},
   "outputs": [],
   "source": [
    "from sklearn import datasets\n",
    "from sklearn.model_selection import cross_validate, cross_val_score\n",
    "digits = datasets.load_digits();\n",
    "breast_cancer = datasets.load_breast_cancer();"
   ]
  },
  {
   "cell_type": "code",
   "execution_count": 10,
   "metadata": {},
   "outputs": [],
   "source": [
    "from sklearn.naive_bayes import  BernoulliNB, MultinomialNB, GaussianNB"
   ]
  },
  {
   "cell_type": "code",
   "execution_count": 26,
   "metadata": {},
   "outputs": [
    {
     "name": "stdout",
     "output_type": "stream",
     "text": [
      "Estimations for digits dataset\n",
      "BernoulliNB 0.8235948803561491\n",
      "MultinomialNB 0.870895937673901\n",
      "GaussianNB 0.8135781858653311\n",
      "\n",
      "Estimations for breast_cancer dataset\n",
      "BernoulliNB 0.6274204028589994\n",
      "MultinomialNB 0.8945790401930752\n",
      "GaussianNB 0.9367492806089297\n"
     ]
    }
   ],
   "source": [
    "def estimate_quality(classifier, data):\n",
    "    resultCV = cross_val_score(classifier, data.data, data.target, cv=3, n_jobs = 3)\n",
    "    return resultCV.mean()\n",
    "    \n",
    "    \n",
    "print(\"Estimations for digits dataset\")\n",
    "print(\"BernoulliNB\", estimate_quality (BernoulliNB(), digits))\n",
    "print(\"MultinomialNB\", estimate_quality (MultinomialNB(), digits))\n",
    "print(\"GaussianNB\", estimate_quality (GaussianNB(), digits))\n",
    "print()\n",
    "print(\"Estimations for breast_cancer dataset\")\n",
    "print(\"BernoulliNB\", estimate_quality (BernoulliNB(), breast_cancer))\n",
    "print(\"MultinomialNB\", estimate_quality (MultinomialNB(), breast_cancer))\n",
    "print(\"GaussianNB\", estimate_quality (GaussianNB(), breast_cancer))\n",
    "\n",
    "\n"
   ]
  },
  {
   "cell_type": "markdown",
   "metadata": {},
   "source": [
    "Для сдачи задания, ответьте на приведенные ниже вопросы.\n",
    "\n",
    "**Вопрос 1**\n",
    "\n",
    "Каким получилось максимальное качество классификации на датасете breast_cancer?\n",
    "**Ответ: 0.93**\n",
    "\n",
    "**Вопрос 2**\n",
    "\n",
    "Каким получилось максимальное качество классификации на датасете digits?\n",
    "**Ответ: 0.87**\n",
    "\n",
    "**Вопрос 3**  \n",
    "digits - целочисленные признаки  \n",
    "breast_cancer - вещественные признаки  \n",
    "Выберите верные утверждения и запишите их номера через пробел (в порядке возрастания номера):\n",
    "\n",
    "    1) На вещественных признаках лучше всего сработал наивный байесовский классификатор с распределением Бернулли - [Нет]\n",
    "\n",
    "    2) На вещественных признаках лучше всего сработал наивный байесовский классификатор с мультиномиальным распределением - [Нет]\n",
    "\n",
    "    3) Мультиномиальное распределение лучше показало себя на выборке с целыми неотрицательными значениями признаков - [Да]\n",
    "\n",
    "    4) На вещественных признаках лучше всего сработало нормальное распределение - [Да]"
   ]
  },
  {
   "cell_type": "code",
   "execution_count": null,
   "metadata": {},
   "outputs": [],
   "source": []
  }
 ],
 "metadata": {
  "kernelspec": {
   "display_name": "Python 3",
   "language": "python",
   "name": "python3"
  },
  "language_info": {
   "codemirror_mode": {
    "name": "ipython",
    "version": 3
   },
   "file_extension": ".py",
   "mimetype": "text/x-python",
   "name": "python",
   "nbconvert_exporter": "python",
   "pygments_lexer": "ipython3",
   "version": "3.8.3"
  }
 },
 "nbformat": 4,
 "nbformat_minor": 4
}
