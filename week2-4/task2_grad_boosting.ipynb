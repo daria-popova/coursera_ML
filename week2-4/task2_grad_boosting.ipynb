{
 "cells": [
  {
   "cell_type": "markdown",
   "metadata": {},
   "source": [
    "# Градиентный бустинг своими руками\n",
    "\n",
    "**Внимание:** в тексте задания произошли изменения - поменялось число деревьев (теперь 50), правило изменения величины шага в задании 3 и добавился параметр `random_state` у решающего дерева. Правильные ответы не поменялись, но теперь их проще получить. Также исправлена опечатка в функции `gbm_predict`.\n",
    "\n",
    "В этом задании будет использоваться датасет `boston` из `sklearn.datasets`. Оставьте последние 25% объектов для контроля качества, разделив `X` и `y` на `X_train`, `y_train` и `X_test`, `y_test`.\n",
    "\n",
    "Целью задания будет реализовать простой вариант градиентного бустинга над регрессионными деревьями для случая квадратичной функции потерь."
   ]
  },
  {
   "cell_type": "code",
   "execution_count": 1,
   "metadata": {},
   "outputs": [
    {
     "name": "stdout",
     "output_type": "stream",
     "text": [
      ".. _boston_dataset:\n",
      "\n",
      "Boston house prices dataset\n",
      "---------------------------\n",
      "\n",
      "**Data Set Characteristics:**  \n",
      "\n",
      "    :Number of Instances: 506 \n",
      "\n",
      "    :Number of Attributes: 13 numeric/categorical predictive. Median Value (attribute 14) is usually the target.\n",
      "\n",
      "    :Attribute Information (in order):\n",
      "        - CRIM     per capita crime rate by town\n",
      "        - ZN       proportion of residential land zoned for lots over 25,000 sq.ft.\n",
      "        - INDUS    proportion of non-retail business acres per town\n",
      "        - CHAS     Charles River dummy variable (= 1 if tract bounds river; 0 otherwise)\n",
      "        - NOX      nitric oxides concentration (parts per 10 million)\n",
      "        - RM       average number of rooms per dwelling\n",
      "        - AGE      proportion of owner-occupied units built prior to 1940\n",
      "        - DIS      weighted distances to five Boston employment centres\n",
      "        - RAD      index of accessibility to radial highways\n",
      "        - TAX      full-value property-tax rate per $10,000\n",
      "        - PTRATIO  pupil-teacher ratio by town\n",
      "        - B        1000(Bk - 0.63)^2 where Bk is the proportion of blacks by town\n",
      "        - LSTAT    % lower status of the population\n",
      "        - MEDV     Median value of owner-occupied homes in $1000's\n",
      "\n",
      "    :Missing Attribute Values: None\n",
      "\n",
      "    :Creator: Harrison, D. and Rubinfeld, D.L.\n",
      "\n",
      "This is a copy of UCI ML housing dataset.\n",
      "https://archive.ics.uci.edu/ml/machine-learning-databases/housing/\n",
      "\n",
      "\n",
      "This dataset was taken from the StatLib library which is maintained at Carnegie Mellon University.\n",
      "\n",
      "The Boston house-price data of Harrison, D. and Rubinfeld, D.L. 'Hedonic\n",
      "prices and the demand for clean air', J. Environ. Economics & Management,\n",
      "vol.5, 81-102, 1978.   Used in Belsley, Kuh & Welsch, 'Regression diagnostics\n",
      "...', Wiley, 1980.   N.B. Various transformations are used in the table on\n",
      "pages 244-261 of the latter.\n",
      "\n",
      "The Boston house-price data has been used in many machine learning papers that address regression\n",
      "problems.   \n",
      "     \n",
      ".. topic:: References\n",
      "\n",
      "   - Belsley, Kuh & Welsch, 'Regression diagnostics: Identifying Influential Data and Sources of Collinearity', Wiley, 1980. 244-261.\n",
      "   - Quinlan,R. (1993). Combining Instance-Based and Model-Based Learning. In Proceedings on the Tenth International Conference of Machine Learning, 236-243, University of Massachusetts, Amherst. Morgan Kaufmann.\n",
      "\n"
     ]
    }
   ],
   "source": [
    "from sklearn import datasets, model_selection, metrics\n",
    "import numpy as np\n",
    "\n",
    "data = datasets.load_boston()\n",
    "print(data['DESCR'])"
   ]
  },
  {
   "cell_type": "code",
   "execution_count": 2,
   "metadata": {},
   "outputs": [],
   "source": [
    "columns = data['feature_names']\n",
    "X_train, X_test, y_train, y_test = model_selection.train_test_split(data['data'], data['target'], \n",
    "                                                                                     test_size = 0.25, random_state = 0)"
   ]
  },
  {
   "cell_type": "markdown",
   "metadata": {},
   "source": [
    "## Задание 1\n",
    "\n",
    "Как вы уже знаете из лекций, **бустинг** - это метод построения композиций базовых алгоритмов с помощью последовательного добавления к текущей композиции нового алгоритма с некоторым коэффициентом. \n",
    "\n",
    "Градиентный бустинг обучает каждый новый алгоритм так, чтобы он приближал антиградиент ошибки по ответам композиции на обучающей выборке. Аналогично минимизации функций методом градиентного спуска, в градиентном бустинге мы подправляем композицию, изменяя алгоритм в направлении антиградиента ошибки.\n",
    "\n",
    "Воспользуйтесь формулой из лекций, задающей ответы на обучающей выборке, на которые нужно обучать новый алгоритм (фактически это лишь чуть более подробно расписанный градиент от ошибки), и получите частный ее случай, если функция потерь `L` - квадрат отклонения ответа композиции `a(x)` от правильного ответа `y` на данном `x`.\n",
    "\n",
    "Если вы давно не считали производную самостоятельно, вам поможет таблица производных элементарных функций (которую несложно найти в интернете) и правило дифференцирования сложной функции. После дифференцирования квадрата у вас возникнет множитель 2 — т.к. нам все равно предстоит выбирать коэффициент, с которым будет добавлен новый базовый алгоритм, проигноируйте этот множитель при дальнейшем построении алгоритма."
   ]
  },
  {
   "cell_type": "code",
   "execution_count": 3,
   "metadata": {},
   "outputs": [],
   "source": [
    "def s (y_predict, y_real):\n",
    "    return [y_real_i - y_pred_i for y_real_i, y_pred_i in zip(y_real, y_predict)]"
   ]
  },
  {
   "cell_type": "code",
   "execution_count": 4,
   "metadata": {},
   "outputs": [
    {
     "name": "stdout",
     "output_type": "stream",
     "text": [
      "[1, 1, 1]\n"
     ]
    }
   ],
   "source": [
    "y_predicted = [0,0,0]\n",
    "y_real = [1,1,1]\n",
    "\n",
    "print(s (y_predicted, y_real))"
   ]
  },
  {
   "cell_type": "markdown",
   "metadata": {},
   "source": [
    "## Задание 2\n",
    "\n",
    "Заведите массив для объектов `DecisionTreeRegressor` (будем их использовать в качестве базовых алгоритмов) и для вещественных чисел (это будут коэффициенты перед базовыми алгоритмами). \n",
    "\n",
    "В цикле от обучите последовательно 50 решающих деревьев с параметрами `max_depth=5` и `random_state=42` (остальные параметры - по умолчанию). В бустинге зачастую используются сотни и тысячи деревьев, но мы ограничимся 50, чтобы алгоритм работал быстрее, и его было проще отлаживать (т.к. цель задания разобраться, как работает метод). Каждое дерево должно обучаться на одном и том же множестве объектов, но ответы, которые учится прогнозировать дерево, будут меняться в соответствие с полученным в задании 1 правилом. \n",
    "\n",
    "Попробуйте для начала всегда брать коэффициент равным 0.9. Обычно оправдано выбирать коэффициент значительно меньшим - порядка 0.05 или 0.1, но т.к. в нашем учебном примере на стандартном датасете будет всего 50 деревьев, возьмем для начала шаг побольше.\n",
    "\n",
    "В процессе реализации обучения вам потребуется функция, которая будет вычислять прогноз построенной на данный момент композиции деревьев на выборке `X`:\n",
    "\n",
    "```\n",
    "def gbm_predict(X):\n",
    "    return [sum([coeff * algo.predict([x])[0] for algo, coeff in zip(base_algorithms_list, coefficients_list)]) for x in X]\n",
    "#(считаем, что base_algorithms_list - список с базовыми алгоритмами, coefficients_list - список с коэффициентами перед алгоритмами)\n",
    "```\n",
    "\n",
    "Эта же функция поможет вам получить прогноз на контрольной выборке и оценить качество работы вашего алгоритма с помощью `mean_squared_error` в `sklearn.metrics`. \n",
    "\n",
    "Возведите результат в степень 0.5, чтобы получить `RMSE`. Полученное значение `RMSE` — **ответ в пункте 2**."
   ]
  },
  {
   "cell_type": "code",
   "execution_count": 5,
   "metadata": {},
   "outputs": [],
   "source": [
    "#base_algorithms_list - список с базовыми алгоритмами, \n",
    "#coefficients_list - список с коэффициентами перед алгоритмами\n",
    "def gbm_predict(X):\n",
    "    return [sum([coeff * algo.predict([x])[0] for algo, coeff in zip(base_algorithms_list, coefficients_list)]) for x in X]"
   ]
  },
  {
   "cell_type": "code",
   "execution_count": 6,
   "metadata": {},
   "outputs": [
    {
     "name": "stdout",
     "output_type": "stream",
     "text": [
      "CPU times: user 30.5 s, sys: 11.9 ms, total: 30.5 s\n",
      "Wall time: 30.5 s\n"
     ]
    }
   ],
   "source": [
    "%%time\n",
    "\n",
    "from sklearn.tree import DecisionTreeRegressor\n",
    "\n",
    "base_algorithms_list = []\n",
    "coefficients_list = []\n",
    "s_i = y_train\n",
    "\n",
    "for i in range(50):\n",
    "    regressor = DecisionTreeRegressor(max_depth=5, random_state=42)\n",
    "    regressor.fit(X_train, s_i)\n",
    "    base_algorithms_list.append(regressor)\n",
    "    coefficients_list.append(0.9)\n",
    "    \n",
    "    y_predict = gbm_predict(X_train)\n",
    "    s_i = s (y_predict, y_train)\n"
   ]
  },
  {
   "cell_type": "code",
   "execution_count": 7,
   "metadata": {},
   "outputs": [
    {
     "name": "stdout",
     "output_type": "stream",
     "text": [
      "err_train 0.004835503813021516\n",
      "err_test 5.16648393209845\n"
     ]
    }
   ],
   "source": [
    "err_train = metrics.mean_squared_error(y_train, gbm_predict(X_train)) ** 0.5\n",
    "err_test = metrics.mean_squared_error(y_test, gbm_predict(X_test)) ** 0.5\n",
    "\n",
    "print(\"err_train\", err_train)\n",
    "print(\"err_test\", err_test)"
   ]
  },
  {
   "cell_type": "markdown",
   "metadata": {},
   "source": [
    "**Вывод:** алгоритм переобучился"
   ]
  },
  {
   "cell_type": "markdown",
   "metadata": {},
   "source": [
    "## Задание 3\n",
    "\n",
    "Вас может также беспокоить, что двигаясь с постоянным шагом, вблизи минимума ошибки ответы на обучающей выборке меняются слишком резко, перескакивая через минимум. \n",
    "\n",
    "Попробуйте уменьшать вес перед каждым алгоритмом с каждой следующей итерацией по формуле `0.9 / (1.0 + i)`, где `i` - номер итерации (от 0 до 49). Используйте качество работы алгоритма как **ответ в пункте 3**. \n",
    "\n",
    "В реальности часто применяется следующая стратегия выбора шага: как только выбран алгоритм, подберем коэффициент перед ним численным методом оптимизации таким образом, чтобы отклонение от правильных ответов было минимальным. Мы не будем предлагать вам реализовать это для выполнения задания, но рекомендуем попробовать разобраться с такой стратегией и реализовать ее при случае для себя."
   ]
  },
  {
   "cell_type": "code",
   "execution_count": 39,
   "metadata": {},
   "outputs": [
    {
     "name": "stdout",
     "output_type": "stream",
     "text": [
      "CPU times: user 32.5 s, sys: 7.87 ms, total: 32.5 s\n",
      "Wall time: 32.5 s\n"
     ]
    }
   ],
   "source": [
    "%%time\n",
    "base_algorithms_list = []\n",
    "coefficients_list = []\n",
    "s_i = y_train\n",
    "\n",
    "for i in range(50):\n",
    "    regressor = DecisionTreeRegressor(max_depth=5, random_state=42)\n",
    "    regressor.fit(X_train, s_i)\n",
    "    base_algorithms_list.append(regressor)\n",
    "    coefficients_list.append(0.9 / (1.0 + i))\n",
    "    \n",
    "    y_predict = gbm_predict(X_train)\n",
    "    s_i = s (y_predict, y_train)\n"
   ]
  },
  {
   "cell_type": "code",
   "execution_count": 41,
   "metadata": {},
   "outputs": [
    {
     "name": "stdout",
     "output_type": "stream",
     "text": [
      "err_train 1.0974978799443273\n",
      "err_test 4.861180231920892\n"
     ]
    }
   ],
   "source": [
    "err_train = metrics.mean_squared_error(y_train, gbm_predict(X_train)) ** 0.5\n",
    "err_test = metrics.mean_squared_error(y_test, gbm_predict(X_test)) ** 0.5\n",
    "\n",
    "print(\"err_train\", err_train)\n",
    "print(\"err_test\", err_test)"
   ]
  },
  {
   "cell_type": "markdown",
   "metadata": {},
   "source": [
    "## Задание 4\n",
    "\n",
    "Реализованный вами метод - градиентный бустинг над деревьями - очень популярен в машинном обучении. Он представлен как в самой библиотеке `sklearn`, так и в сторонней библиотеке `XGBoost`, которая имеет свой питоновский интерфейс. На практике `XGBoost` работает заметно лучше `GradientBoostingRegressor` из `sklearn`, но для этого задания вы можете использовать любую реализацию. \n",
    "\n",
    "Исследуйте, переобучается ли градиентный бустинг с ростом числа итераций (и подумайте, почему), а также с ростом глубины деревьев. На основе наблюдений выпишите через пробел номера правильных из приведенных ниже утверждений в порядке возрастания номера (это будет **ответ в п.4**):\n",
    "\n",
    "1. **С увеличением числа деревьев, начиная с некоторого момента, качество работы градиентного бустинга не меняется существенно.**\n",
    "\n",
    "2. С увеличением числа деревьев, начиная с некоторого момента, градиентный бустинг начинает переобучаться.\n",
    "\n",
    "3. **С ростом глубины деревьев, начиная с некоторого момента, качество работы градиентного бустинга на тестовой выборке начинает ухудшаться.**\n",
    "\n",
    "4. С ростом глубины деревьев, начиная с некоторого момента, качество работы градиентного бустинга перестает существенно изменяться"
   ]
  },
  {
   "cell_type": "code",
   "execution_count": 8,
   "metadata": {},
   "outputs": [
    {
     "name": "stdout",
     "output_type": "stream",
     "text": [
      "CPU times: user 2h 27min 45s, sys: 5.82 s, total: 2h 27min 51s\n",
      "Wall time: 2h 27min 48s\n"
     ]
    }
   ],
   "source": [
    "%%time\n",
    "#рост числа итераций\n",
    "iters = np.arange(10, 510, 50)\n",
    "train_err = []\n",
    "test_err = []\n",
    "\n",
    "for iter_n in iters:\n",
    "    base_algorithms_list = []\n",
    "    coefficients_list = []\n",
    "    s_i = y_train\n",
    "\n",
    "    for i in range(iter_n):\n",
    "        regressor = DecisionTreeRegressor(max_depth=5, random_state=42)\n",
    "        regressor.fit(X_train, s_i)\n",
    "        base_algorithms_list.append(regressor)\n",
    "        coefficients_list.append(0.9 / (1.0 + i))\n",
    "\n",
    "        y_predict = gbm_predict(X_train)\n",
    "        s_i = s (y_predict, y_train)\n",
    "\n",
    "    train_err.append(metrics.mean_squared_error(y_train, gbm_predict(X_train)) ** 0.5)\n",
    "    test_err.append(metrics.mean_squared_error(y_test, gbm_predict(X_test)) ** 0.5)\n",
    "\n"
   ]
  },
  {
   "cell_type": "code",
   "execution_count": 9,
   "metadata": {},
   "outputs": [
    {
     "name": "stdout",
     "output_type": "stream",
     "text": [
      "train_err [1.4779680438730722, 1.0670975753709728, 0.9740813918884345, 0.9261761489793185, 0.8958940220827128, 0.871711364295603, 0.8522284609517812, 0.834150165872726, 0.8181921832422673, 0.8041132225474098]\n",
      "test_err [4.958221129875845, 4.855309682061708, 4.8589184137379835, 4.857029994627481, 4.857441105426061, 4.856702760807176, 4.855683384689714, 4.854588176045865, 4.853693328100935, 4.853728997886732]\n"
     ]
    }
   ],
   "source": [
    "print(\"train_err\", train_err)\n",
    "print(\"test_err\", test_err)\n"
   ]
  },
  {
   "cell_type": "code",
   "execution_count": 10,
   "metadata": {},
   "outputs": [
    {
     "name": "stdout",
     "output_type": "stream",
     "text": [
      "Populating the interactive namespace from numpy and matplotlib\n"
     ]
    }
   ],
   "source": [
    "%pylab inline"
   ]
  },
  {
   "cell_type": "code",
   "execution_count": 22,
   "metadata": {},
   "outputs": [
    {
     "data": {
      "text/plain": [
       "<matplotlib.legend.Legend at 0x7ff3a7d4f610>"
      ]
     },
     "execution_count": 22,
     "metadata": {},
     "output_type": "execute_result"
    },
    {
     "data": {
      "image/png": "[encoded data removed]",
      "text/plain": [
       "<Figure size 432x288 with 1 Axes>"
      ]
     },
     "metadata": {
      "needs_background": "light"
     },
     "output_type": "display_data"
    }
   ],
   "source": [
    "pylab.plot(iters, train_err, marker='.', label='Train data')\n",
    "pylab.plot(iters, test_err, marker='.', label='Test data')\n",
    "pylab.grid(True)\n",
    "pylab.xlabel('Trees number (iterations of algoritm)')\n",
    "pylab.ylabel('RMSE error')\n",
    "pylab.title('RMSE error for differen tree number')\n",
    "pylab.legend(loc='best')"
   ]
  },
  {
   "cell_type": "code",
   "execution_count": 15,
   "metadata": {},
   "outputs": [
    {
     "name": "stdout",
     "output_type": "stream",
     "text": [
      "CPU times: user 9min 54s, sys: 368 ms, total: 9min 55s\n",
      "Wall time: 9min 55s\n"
     ]
    }
   ],
   "source": [
    "%%time\n",
    "#рост числа деревьев\n",
    "trees_depth = np.arange(2, 20, 1)\n",
    "train_err_depth = []\n",
    "test_err_depth = []\n",
    "\n",
    "for depth in trees_depth:\n",
    "    base_algorithms_list = []\n",
    "    coefficients_list = []\n",
    "    s_i = y_train\n",
    "\n",
    "    for i in range(50):\n",
    "        regressor = DecisionTreeRegressor(max_depth=depth, random_state=42)\n",
    "        regressor.fit(X_train, s_i)\n",
    "        base_algorithms_list.append(regressor)\n",
    "        coefficients_list.append(0.9 / (1.0 + i))\n",
    "\n",
    "        y_predict = gbm_predict(X_train)\n",
    "        s_i = s (y_predict, y_train)\n",
    "        \n",
    "    train_err_depth.append(metrics.mean_squared_error(y_train, gbm_predict(X_train)) ** 0.5)\n",
    "    test_err_depth.append(metrics.mean_squared_error(y_test, gbm_predict(X_test)) ** 0.5)\n",
    "\n"
   ]
  },
  {
   "cell_type": "code",
   "execution_count": 16,
   "metadata": {},
   "outputs": [
    {
     "name": "stdout",
     "output_type": "stream",
     "text": [
      "train_err_depth [3.096630599535697, 2.3433141530049766, 1.6313350973247969, 1.0974978799443276, 0.6840979667609453, 0.3927252459873015, 0.19810878850859587, 0.12033508356808778, 0.08584752955711338, 0.07884932289012223, 0.07763081475403874, 0.07636442988369552, 0.07600646166452202, 0.07588970069174912, 0.0758623017156945, 0.07585568573245297, 0.07585527048413493, 0.07585527048413493]\n",
      "test_err_depth [4.899474184956918, 5.169724498723747, 4.978152652498278, 4.861180231920894, 5.101343127648831, 4.906570649027082, 5.434494485853926, 5.438769125178162, 5.024207326959232, 5.064917688455653, 5.011824089802785, 5.47018868894725, 5.148840812097204, 5.143140238635308, 5.267975751474617, 5.310673309429518, 5.299638741339375, 5.299638741339375]\n"
     ]
    }
   ],
   "source": [
    "print(\"train_err_depth\", train_err_depth)\n",
    "print(\"test_err_depth\", test_err_depth)\n"
   ]
  },
  {
   "cell_type": "code",
   "execution_count": 23,
   "metadata": {},
   "outputs": [
    {
     "data": {
      "text/plain": [
       "<matplotlib.legend.Legend at 0x7ff3a7cc7d30>"
      ]
     },
     "execution_count": 23,
     "metadata": {},
     "output_type": "execute_result"
    },
    {
     "data": {
      "image/png": "[encoded data removed]",
      "text/plain": [
       "<Figure size 432x288 with 1 Axes>"
      ]
     },
     "metadata": {
      "needs_background": "light"
     },
     "output_type": "display_data"
    }
   ],
   "source": [
    "pylab.plot(trees_depth, train_err_depth, marker='.', label='Train data')\n",
    "pylab.plot(trees_depth, test_err_depth, marker='.', label='Test data')\n",
    "pylab.grid(True)\n",
    "pylab.xlabel('Trees depth')\n",
    "pylab.ylabel('RMSE error')\n",
    "pylab.title('RMSE error for different depth of tree')\n",
    "pylab.legend(loc='best')"
   ]
  },
  {
   "cell_type": "markdown",
   "metadata": {},
   "source": [
    "## Задание 5\n",
    "\n",
    "Сравните получаемое с помощью градиентного бустинга качество с качеством работы линейной регрессии. \n",
    "\n",
    "Для этого обучите `LinearRegression` из `sklearn.linear_model` (с параметрами по умолчанию) на обучающей выборке и оцените для прогнозов полученного алгоритма на тестовой выборке `RMSE`. Полученное качество - ответ в **пункте 5**. \n",
    "\n",
    "В данном примере качество работы простой модели должно было оказаться хуже, но не стоит забывать, что так бывает не всегда. В заданиях к этому курсу вы еще встретите пример обратной ситуации."
   ]
  },
  {
   "cell_type": "code",
   "execution_count": 28,
   "metadata": {},
   "outputs": [
    {
     "name": "stdout",
     "output_type": "stream",
     "text": [
      "5.457311159564055\n"
     ]
    }
   ],
   "source": [
    "from sklearn.linear_model import LinearRegression\n",
    "from sklearn.metrics import mean_squared_error\n",
    "\n",
    "regressor = LinearRegression()\n",
    "regressor.fit(X_train, y_train)\n",
    "score = mean_squared_error(regressor.predict(X_test), y_test)**0.5\n",
    "print(score)"
   ]
  },
  {
   "cell_type": "markdown",
   "metadata": {},
   "source": [
    "**Вывод:** по метрике RMSE(корень из среднеквадратичной ошибки) **линейный алгоритм сработал чуть хуже**. Но разница не очень большая.  \n",
    "\n",
    "В данном задании я не делала нормализацию данных, возможно, это тоже дало бы какой-то эффект"
   ]
  }
 ],
 "metadata": {
  "kernelspec": {
   "display_name": "Python 3",
   "language": "python",
   "name": "python3"
  },
  "language_info": {
   "codemirror_mode": {
    "name": "ipython",
    "version": 3
   },
   "file_extension": ".py",
   "mimetype": "text/x-python",
   "name": "python",
   "nbconvert_exporter": "python",
   "pygments_lexer": "ipython3",
   "version": "3.8.3"
  }
 },
 "nbformat": 4,
 "nbformat_minor": 1
}
